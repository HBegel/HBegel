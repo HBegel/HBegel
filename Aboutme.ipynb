{
  "nbformat": 4,
  "nbformat_minor": 0,
  "metadata": {
    "colab": {
      "provenance": []
    },
    "kernelspec": {
      "name": "python3",
      "display_name": "Python 3"
    },
    "language_info": {
      "name": "python"
    }
  },
  "cells": [
    {
      "cell_type": "code",
      "source": [
        "name = \"Hamide Begel\"\n",
        "located_in =  \"Istanbul\"\n",
        "current_field = \"consultant & data & analytics\"\n",
        "\n",
        "education = {\n",
        "  \"University\":\"Istanbul Technical University\",\n",
        "  \"Master Education\": \"Urban Planning\",\n",
        "  \"CGPA\": 3.68\n",
        "}\n",
        "\n",
        "fields_of_interests = [\n",
        "  \"Data Science\",\n",
        "  \"Data Analyst\",\n",
        "  \"Data Visualization\"\n",
        "  ]\n",
        "\n",
        "technical_background = [\n",
        "  \"Business Solution Consultant\"\n",
        "  ]\n",
        "\n",
        "certificates = [\n",
        "    \"Aygaz Data Analysis Bootcamp\",\n",
        "    \"Python for Machine Learning\",\n",
        "    \"Statistics for Data Science\",\n",
        "    \"SQL Course\",\n",
        "    \"MS Excel Course\"\n",
        "]\n",
        "\n",
        "hobbies = [\n",
        "  \"Drawing\",\n",
        "  \"Swimming\",\n",
        "  \"Theatre\",\n",
        "  \"Gardenning\",\n",
        "  \"Running\"\n",
        "  ]"
      ],
      "metadata": {
        "id": "PPc-kVljlsmi"
      },
      "execution_count": 2,
      "outputs": []
    }
  ]
}